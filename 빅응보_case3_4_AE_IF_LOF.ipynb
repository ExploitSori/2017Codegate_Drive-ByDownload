{
  "nbformat": 4,
  "nbformat_minor": 0,
  "metadata": {
    "colab": {
      "provenance": [],
      "machine_shape": "hm",
      "gpuType": "A100",
      "authorship_tag": "ABX9TyNud6Pq3qx3709e2801LAiE",
      "include_colab_link": true
    },
    "kernelspec": {
      "name": "python3",
      "display_name": "Python 3"
    },
    "language_info": {
      "name": "python"
    },
    "accelerator": "GPU"
  },
  "cells": [
    {
      "cell_type": "markdown",
      "metadata": {
        "id": "view-in-github",
        "colab_type": "text"
      },
      "source": [
        "<a href=\"https://colab.research.google.com/github/ExploitSori/2017Codegate_Drive-ByDownload/blob/master/%EB%B9%85%EC%9D%91%EB%B3%B4_case3_4_AE_IF_LOF.ipynb\" target=\"_parent\"><img src=\"https://colab.research.google.com/assets/colab-badge.svg\" alt=\"Open In Colab\"/></a>"
      ]
    },
    {
      "cell_type": "code",
      "execution_count": 44,
      "metadata": {
        "colab": {
          "base_uri": "https://localhost:8080/"
        },
        "id": "E0hBW3FUVU-I",
        "outputId": "a9e5e5c3-541e-4541-d8c5-5ad000d731d6"
      },
      "outputs": [
        {
          "output_type": "stream",
          "name": "stdout",
          "text": [
            "Drive already mounted at /content/drive; to attempt to forcibly remount, call drive.mount(\"/content/drive\", force_remount=True).\n"
          ]
        }
      ],
      "source": [
        "import matplotlib.pyplot as plt\n",
        "import numpy as np\n",
        "import pandas as pd\n",
        "from sklearn.model_selection import train_test_split\n",
        "from google.colab import drive\n",
        "from sklearn.preprocessing import StandardScaler\n",
        "from sklearn.ensemble import IsolationForest\n",
        "from sklearn.neighbors import LocalOutlierFactor\n",
        "from tensorflow.keras.models import Model, Sequential\n",
        "from tensorflow.keras.layers import Input, Dense\n",
        "drive.mount('/content/drive')\n",
        "\n",
        "\n"
      ]
    },
    {
      "cell_type": "code",
      "source": [
        "\n",
        "data = pd.read_csv('./drive/MyDrive/Colab Notebooks/team_prj/data/type3_normal.csv')#.to_numpy()\n",
        "y = data['type']\n",
        "y = y.map({'Normal': 0, 'Attack': 1}).to_numpy()\n",
        "#X['messageID'] = data['messageID']\n",
        "X = data.drop(columns =['type'])\n",
        "X['messageID'] = X['messageID'].astype('category')\n",
        "#X = X.drop(columns =['isCan0','isService','serviceNODEID'])\n",
        "X = X.drop(columns = ['time','data[0]','data[7]'])\n",
        "print(X.shape)\n"
      ],
      "metadata": {
        "colab": {
          "base_uri": "https://localhost:8080/"
        },
        "id": "7N7O9VhsVaVK",
        "outputId": "e410e0f7-a222-4238-9699-ee52a969d558"
      },
      "execution_count": 45,
      "outputs": [
        {
          "output_type": "stream",
          "name": "stdout",
          "text": [
            "(101601, 14)\n"
          ]
        }
      ]
    },
    {
      "cell_type": "code",
      "source": [
        "scaler = StandardScaler()\n",
        "X_scaled = scaler.fit_transform(X)\n",
        "input_dim = X_scaled.shape[1]\n",
        "encoding_dim = 14\n",
        "\n",
        "input_layer = Input(shape=(input_dim,))\n",
        "encoder = Dense(encoding_dim, activation=\"relu\")(input_layer)\n",
        "decoder = Dense(input_dim, activation=\"sigmoid\")(encoder)\n",
        "\n",
        "autoencoder = Model(inputs=input_layer, outputs=decoder)\n",
        "autoencoder.compile(optimizer='adam', loss='mse')\n",
        "\n",
        "# Autoencoder 학습\n",
        "autoencoder.fit(X_scaled, X_scaled, epochs=30, batch_size=32, shuffle=True, validation_split=0.2)"
      ],
      "metadata": {
        "colab": {
          "base_uri": "https://localhost:8080/"
        },
        "id": "ss4LnCaJymY8",
        "outputId": "925e469a-d908-4bec-f994-47730a27f546"
      },
      "execution_count": 46,
      "outputs": [
        {
          "output_type": "stream",
          "name": "stdout",
          "text": [
            "Epoch 1/30\n",
            "2540/2540 [==============================] - 6s 2ms/step - loss: 0.6365 - val_loss: 0.5251\n",
            "Epoch 2/30\n",
            "2540/2540 [==============================] - 6s 2ms/step - loss: 0.5740 - val_loss: 0.5181\n",
            "Epoch 3/30\n",
            "2540/2540 [==============================] - 5s 2ms/step - loss: 0.5697 - val_loss: 0.5148\n",
            "Epoch 4/30\n",
            "2540/2540 [==============================] - 6s 2ms/step - loss: 0.5691 - val_loss: 0.5142\n",
            "Epoch 5/30\n",
            "2540/2540 [==============================] - 5s 2ms/step - loss: 0.5690 - val_loss: 0.5140\n",
            "Epoch 6/30\n",
            "2540/2540 [==============================] - 5s 2ms/step - loss: 0.5689 - val_loss: 0.5140\n",
            "Epoch 7/30\n",
            "2540/2540 [==============================] - 6s 2ms/step - loss: 0.5683 - val_loss: 0.5133\n",
            "Epoch 8/30\n",
            "2540/2540 [==============================] - 6s 2ms/step - loss: 0.5681 - val_loss: 0.5132\n",
            "Epoch 9/30\n",
            "2540/2540 [==============================] - 6s 2ms/step - loss: 0.5681 - val_loss: 0.5131\n",
            "Epoch 10/30\n",
            "2540/2540 [==============================] - 5s 2ms/step - loss: 0.5681 - val_loss: 0.5131\n",
            "Epoch 11/30\n",
            "2540/2540 [==============================] - 6s 2ms/step - loss: 0.5681 - val_loss: 0.5131\n",
            "Epoch 12/30\n",
            "2540/2540 [==============================] - 5s 2ms/step - loss: 0.5680 - val_loss: 0.5131\n",
            "Epoch 13/30\n",
            "2540/2540 [==============================] - 6s 2ms/step - loss: 0.5680 - val_loss: 0.5131\n",
            "Epoch 14/30\n",
            "2540/2540 [==============================] - 5s 2ms/step - loss: 0.5678 - val_loss: 0.5124\n",
            "Epoch 15/30\n",
            "2540/2540 [==============================] - 5s 2ms/step - loss: 0.5673 - val_loss: 0.5124\n",
            "Epoch 16/30\n",
            "2540/2540 [==============================] - 6s 2ms/step - loss: 0.5673 - val_loss: 0.5124\n",
            "Epoch 17/30\n",
            "2540/2540 [==============================] - 5s 2ms/step - loss: 0.5672 - val_loss: 0.5124\n",
            "Epoch 18/30\n",
            "2540/2540 [==============================] - 6s 2ms/step - loss: 0.5672 - val_loss: 0.5123\n",
            "Epoch 19/30\n",
            "2540/2540 [==============================] - 5s 2ms/step - loss: 0.5670 - val_loss: 0.5118\n",
            "Epoch 20/30\n",
            "2540/2540 [==============================] - 6s 2ms/step - loss: 0.5666 - val_loss: 0.5118\n",
            "Epoch 21/30\n",
            "2540/2540 [==============================] - 5s 2ms/step - loss: 0.5666 - val_loss: 0.5117\n",
            "Epoch 22/30\n",
            "2540/2540 [==============================] - 6s 2ms/step - loss: 0.5666 - val_loss: 0.5117\n",
            "Epoch 23/30\n",
            "2540/2540 [==============================] - 6s 2ms/step - loss: 0.5666 - val_loss: 0.5117\n",
            "Epoch 24/30\n",
            "2540/2540 [==============================] - 6s 2ms/step - loss: 0.5666 - val_loss: 0.5117\n",
            "Epoch 25/30\n",
            "2540/2540 [==============================] - 6s 2ms/step - loss: 0.5666 - val_loss: 0.5117\n",
            "Epoch 26/30\n",
            "2540/2540 [==============================] - 5s 2ms/step - loss: 0.5666 - val_loss: 0.5117\n",
            "Epoch 27/30\n",
            "2540/2540 [==============================] - 6s 2ms/step - loss: 0.5666 - val_loss: 0.5117\n",
            "Epoch 28/30\n",
            "2540/2540 [==============================] - 5s 2ms/step - loss: 0.5666 - val_loss: 0.5117\n",
            "Epoch 29/30\n",
            "2540/2540 [==============================] - 6s 2ms/step - loss: 0.5666 - val_loss: 0.5117\n",
            "Epoch 30/30\n",
            "2540/2540 [==============================] - 5s 2ms/step - loss: 0.5666 - val_loss: 0.5117\n"
          ]
        },
        {
          "output_type": "execute_result",
          "data": {
            "text/plain": [
              "<keras.src.callbacks.History at 0x79fcc52d4400>"
            ]
          },
          "metadata": {},
          "execution_count": 46
        }
      ]
    },
    {
      "cell_type": "code",
      "source": [
        "input_layer = Input(shape=(input_dim,))\n",
        "encoder = Dense(encoding_dim, activation=\"relu\")(input_layer)\n",
        "decoder = Dense(input_dim, activation=\"sigmoid\")(encoder)\n",
        "encoder_model = Model(inputs=input_layer, outputs=encoder)\n",
        "\n",
        "# 데이터를 인코딩\n",
        "X_encoded = encoder_model.predict(X_scaled)"
      ],
      "metadata": {
        "colab": {
          "base_uri": "https://localhost:8080/"
        },
        "id": "I0gB7M-hyzAL",
        "outputId": "5410d5cc-6119-474c-aefa-1a5bf8d710c9"
      },
      "execution_count": 47,
      "outputs": [
        {
          "output_type": "stream",
          "name": "stdout",
          "text": [
            "3176/3176 [==============================] - 3s 1ms/step\n"
          ]
        }
      ]
    },
    {
      "cell_type": "code",
      "source": [
        "#data.loc[data['type']=='Normal', 'type'] = 0\n",
        "#data.loc[data['type']=='Attack', 'type'] = 1\n",
        "\n",
        "fullDataX1 = pd.read_csv('./drive/MyDrive/Colab Notebooks/team_prj/data/type3.csv')#.to_numpy()\n",
        "\n",
        "#X['messageID'] = data['messageID']\n",
        "fX1 = fullDataX1.drop(columns =['type'])\n",
        "#fX1 = fX1.drop(columns =['isCan0','isService','serviceNODEID'])\n",
        "fX1 = fX1.drop(columns = ['time','data[0]','data[7]'])\n",
        "print(fX1.shape)\n",
        "fX1_scaled = scaler.fit_transform(fX1)\n",
        "fX1_encoded = encoder_model.predict(fX1_scaled)"
      ],
      "metadata": {
        "colab": {
          "base_uri": "https://localhost:8080/"
        },
        "id": "bH9_v5oz7HZJ",
        "outputId": "6b82954f-046f-4cd8-afa2-a90cb0d8b337"
      },
      "execution_count": 48,
      "outputs": [
        {
          "output_type": "stream",
          "name": "stdout",
          "text": [
            "(197479, 14)\n",
            "6172/6172 [==============================] - 6s 1ms/step\n"
          ]
        }
      ]
    },
    {
      "cell_type": "code",
      "source": [],
      "metadata": {
        "id": "i5ary7LCFMsl"
      },
      "execution_count": 48,
      "outputs": []
    },
    {
      "cell_type": "code",
      "source": [
        "if_model = IsolationForest(contamination=0.1)  # contamination 값 조정 가능\n",
        "if_model.fit(X_encoded)\n",
        "\n",
        "# 이상치 예측\n",
        "if_predictions = if_model.predict(fX1_encoded)"
      ],
      "metadata": {
        "id": "PStPsj2D6AFg"
      },
      "execution_count": 49,
      "outputs": []
    },
    {
      "cell_type": "code",
      "source": [
        "\n",
        "print(np.unique(if_predictions, return_counts=True))"
      ],
      "metadata": {
        "colab": {
          "base_uri": "https://localhost:8080/"
        },
        "id": "FZrvkIQPKOTR",
        "outputId": "c9ff6f98-0a95-4880-a6c1-98528acd8019"
      },
      "execution_count": 57,
      "outputs": [
        {
          "output_type": "stream",
          "name": "stdout",
          "text": [
            "(array([-1,  1]), array([ 84878, 112601]))\n"
          ]
        }
      ]
    },
    {
      "cell_type": "code",
      "source": [
        "# 모델 저장\n",
        "#import pickle\n",
        "#with open('/content/drive/MyDrive/Colab Notebooks/team_prj/case3_if_model.pkl', 'wb') as file:\n",
        "#    pickle.dump(if_model, file)"
      ],
      "metadata": {
        "id": "XnnXK0cQn303"
      },
      "execution_count": 60,
      "outputs": []
    },
    {
      "cell_type": "code",
      "source": [
        "import pickle\n",
        "import numpy as np\n",
        "import pandas as pd\n",
        "from sklearn.metrics import confusion_matrix, classification_report\n",
        "import pickle\n",
        "with open('/content/drive/MyDrive/Colab Notebooks/team_prj/case3_if_model.pkl', 'rb') as file:\n",
        "    loaded_if_model = pickle.load(file)\n",
        "\n",
        "# 불러온 모델로 예측\n",
        "fy1 = fullDataX1['type']\n",
        "fy1 = fy1.map({'Normal': 0, 'Attack': 1}).to_numpy()\n",
        "loaded_if_predictions = loaded_if_model.predict(fX1_encoded)\n",
        "loaded_if_predictions = np.where(loaded_if_predictions == -1, 0, loaded_if_predictions)\n",
        "print(np.unique(loaded_if_predictions, return_counts=True))\n",
        "conf_matrix = confusion_matrix(fy1, loaded_if_predictions)\n",
        "class_report = classification_report(fy1, loaded_if_predictions)\n",
        "\n",
        "print(\"Confusion Matrix:\")\n",
        "print(conf_matrix)\n",
        "print(\"\\nClassification Report:\")\n",
        "print(class_report)"
      ],
      "metadata": {
        "colab": {
          "base_uri": "https://localhost:8080/"
        },
        "id": "804XoJRon-q7",
        "outputId": "3d3d8581-f961-4d1f-a2df-6fb1d65b6e1a"
      },
      "execution_count": 66,
      "outputs": [
        {
          "output_type": "stream",
          "name": "stdout",
          "text": [
            "(array([0, 1]), array([ 84878, 112601]))\n",
            "Confusion Matrix:\n",
            "[[54118 47483]\n",
            " [30760 65118]]\n",
            "\n",
            "Classification Report:\n",
            "              precision    recall  f1-score   support\n",
            "\n",
            "           0       0.64      0.53      0.58    101601\n",
            "           1       0.58      0.68      0.62     95878\n",
            "\n",
            "    accuracy                           0.60    197479\n",
            "   macro avg       0.61      0.61      0.60    197479\n",
            "weighted avg       0.61      0.60      0.60    197479\n",
            "\n"
          ]
        }
      ]
    },
    {
      "cell_type": "code",
      "source": [
        "# Local Outlier Factor 모델 정의 및 학습\n",
        "lof_model = LocalOutlierFactor(n_neighbors=30, contamination=0.1, novelty=True)  # n_neighbors 및 contamination 값 조정 가능\n",
        "lof_model.fit(X_encoded)\n",
        "lof_predictions = lof_model.predict(fX1_encoded)\n",
        "# 이상치라면 -1, 정상치라면 1로 표시됨\n"
      ],
      "metadata": {
        "id": "pj7CtxYC6DKQ"
      },
      "execution_count": 50,
      "outputs": []
    },
    {
      "cell_type": "code",
      "source": [
        "# 모델 저장\n",
        "import pickle\n",
        "with open('/content/drive/MyDrive/Colab Notebooks/team_prj/case3_lof_model.pkl', 'wb') as file:\n",
        "    pickle.dump(lof_model, file)"
      ],
      "metadata": {
        "id": "Z33EKFsVmtX8"
      },
      "execution_count": 55,
      "outputs": []
    },
    {
      "cell_type": "code",
      "source": [
        "with open('/content/drive/MyDrive/Colab Notebooks/team_prj/case3_lof_model.pkl', 'rb') as file:\n",
        "    loaded_lof_model = pickle.load(file)\n",
        "\n",
        "# 불러온 모델로 예측\n",
        "loaded_lof_predictions = loaded_lof_model.predict(fX1_encoded)\n",
        "print(np.unique(loaded_lof_predictions, return_counts=True))"
      ],
      "metadata": {
        "id": "AqswqoI5m3F0"
      },
      "execution_count": 59,
      "outputs": []
    },
    {
      "cell_type": "markdown",
      "source": [],
      "metadata": {
        "id": "R-txhzzTDetD"
      }
    },
    {
      "cell_type": "code",
      "source": [
        "print(np.unique(lof_predictions, return_counts=True))"
      ],
      "metadata": {
        "colab": {
          "base_uri": "https://localhost:8080/"
        },
        "id": "_VtYcHGmEGiY",
        "outputId": "8cd8be2e-9a6d-448f-e4d0-908ec08f1a06"
      },
      "execution_count": 58,
      "outputs": [
        {
          "output_type": "stream",
          "name": "stdout",
          "text": [
            "(array([-1,  1]), array([196519,    960]))\n"
          ]
        }
      ]
    },
    {
      "cell_type": "code",
      "source": [],
      "metadata": {
        "id": "uhQh-I7q6GXX"
      },
      "execution_count": 52,
      "outputs": []
    },
    {
      "cell_type": "code",
      "source": [
        "data2 = pd.read_csv('./drive/MyDrive/Colab Notebooks/team_prj/data/type2.csv')\n",
        "y2 = data2['type']\n",
        "y2 = y2.map({'Normal': 0, 'Attack': 1}).to_numpy()\n",
        "#X2 = data2.drop(columns =['type'])\n",
        "#X2 = X2.drop(columns =['isCan0'])\n",
        "#X2 = X2.drop(columns = ['time'])\n",
        "\n",
        "X2 = data2.drop(columns =['type'])\n",
        "X2 = X2.drop(columns =['isCan0','isService','serviceNODEID'])\n",
        "X2 = X2.drop(columns = ['time','data[0]','data[7]'])\n",
        "\n"
      ],
      "metadata": {
        "id": "V0FE0JPyVgL6"
      },
      "execution_count": 53,
      "outputs": []
    },
    {
      "cell_type": "code",
      "source": [],
      "metadata": {
        "id": "CoqaIodOVoVh"
      },
      "execution_count": 53,
      "outputs": []
    }
  ]
}